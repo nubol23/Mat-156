{
 "cells": [
  {
   "cell_type": "code",
   "execution_count": 1,
   "metadata": {},
   "outputs": [],
   "source": [
    "import requests\n",
    "import time\n",
    "import base64\n",
    "import pandas as pd\n",
    "import os\n",
    "import time\n",
    "import operator\n",
    "from json import JSONDecoder\n",
    "from tqdm import tqdm"
   ]
  },
  {
   "cell_type": "code",
   "execution_count": 2,
   "metadata": {},
   "outputs": [],
   "source": [
    "def get_max_emotion(emotions):\n",
    "    assert isinstance(emotions, dict)\n",
    "    max_emotion = max(emotions.items(), key=operator.itemgetter(1))[0]\n",
    "    return max_emotion\n",
    "\n",
    "def get_beauty_score(beauties):\n",
    "    \"\"\"return: (female_score, male_score)\"\"\"\n",
    "    assert isinstance(beauties, dict)\n",
    "    return tuple(beauties.values())\n",
    "\n",
    "def get_gender(gender_dict):\n",
    "    assert isinstance(gender_dict, dict)\n",
    "    return gender_dict['value']\n",
    "\n",
    "def get_age(age_dict):\n",
    "    assert isinstance(age_dict, dict)\n",
    "    return age_dict['value']\n",
    "\n",
    "def get_eye_status(eye_status_dict):\n",
    "    \"\"\"return: (left_eye_status, right_eye_status)\"\"\"\n",
    "    assert isinstance(eye_status_dict, dict)\n",
    "    return max(eye_status_dict['left_eye_status'].items(), key=operator.itemgetter(1))[0], \\\n",
    "            max(eye_status_dict['right_eye_status'].items(), key=operator.itemgetter(1))[0]\n",
    "\n",
    "def get_face_quality(face_quality_dict):\n",
    "    \"\"\"threshold': 70.1\"\"\"\n",
    "    return face_quality_dict['value']\n",
    "\n",
    "def get_ethnicity(ethnicity_ditc):    \n",
    "    return ethnicity_ditc['value']"
   ]
  },
  {
   "cell_type": "code",
   "execution_count": 3,
   "metadata": {},
   "outputs": [],
   "source": [
    "dir_path = '/home/nvd/Documents/biometrics/datasets/curated_face_datasets/gender_dataset/raw_data/F'\n",
    "database = \"gender_dataset_F\"\n",
    "df = pd.DataFrame(columns=['Emotion', 'Female_Beauty', 'Male_Beauty', 'Gender', 'Age', 'Left_Eye_Status', 'Right_Eye_Status', 'Face_Quality', 'Ethnicity'])"
   ]
  },
  {
   "cell_type": "code",
   "execution_count": 4,
   "metadata": {},
   "outputs": [],
   "source": [
    "df_females_orig = pd.read_csv('gender_females.csv')"
   ]
  },
  {
   "cell_type": "code",
   "execution_count": 5,
   "metadata": {},
   "outputs": [],
   "source": [
    "faceplusplus_api = 'https://api-us.faceplusplus.com/facepp/v3/detect'\n",
    "key = 'oy6XkMRYm7-GO4qnNArBT0PawBqocSv_'\n",
    "secret = 'o6YdzzCDKHQD0aqO4idwcSonYT_2o4-R'"
   ]
  },
  {
   "cell_type": "code",
   "execution_count": 6,
   "metadata": {},
   "outputs": [],
   "source": [
    "data = {}\n",
    "data['api_key'] = key\n",
    "data['api_secret'] = secret\n",
    "data['return_attributes'] = 'gender,age,facequality,eyestatus,emotion,ethnicity,beauty'\n",
    "rows = {'full_path': [],\n",
    "        'database': [],\n",
    "        'emotion': [],\n",
    "        'female_beauty': [],\n",
    "        'male_beauty': [],\n",
    "        'gender': [],\n",
    "        'age': [],\n",
    "        'left_eye_status': [],\n",
    "        'right_eye_status': [],\n",
    "        'face_quality': [],\n",
    "        'ethnicity': []}"
   ]
  },
  {
   "cell_type": "code",
   "execution_count": null,
   "metadata": {},
   "outputs": [
    {
     "name": "stderr",
     "output_type": "stream",
     "text": [
      "41050it [5:57:20,  1.91it/s]"
     ]
    }
   ],
   "source": [
    "df_females_list = df_females_orig.iloc[:]['full_path'].tolist()\n",
    "\n",
    "images = os.listdir(dir_path)\n",
    "images_left_to_label = images.copy()\n",
    "\n",
    "for index, file in tqdm(enumerate(images)):\n",
    "    # Load image.\n",
    "    filepath = os.path.join(dir_path, file)\n",
    "    \n",
    "    if filepath in df_females_list:\n",
    "        #print('Exists')\n",
    "        continue\n",
    "    \n",
    "    #print(\"\\nFilepath: \", filepath)\n",
    "    assert os.path.isfile(filepath), \"File does not exist.\"\n",
    "    files= {'image_file': open(filepath, 'rb')}\n",
    "    # Make post.\n",
    "    response = requests.post(url=faceplusplus_api,\n",
    "                             data=data,\n",
    "                             files=files)\n",
    "    # Parse response into json.\n",
    "    req_con = response.content.decode('utf-8')\n",
    "    req_dict = JSONDecoder().decode(req_con)\n",
    "    #print(req_dict)\n",
    "    # If no faces are found.\n",
    "    if len(req_dict['faces'])==0:\n",
    "        continue\n",
    "    # Create dataframe row.\n",
    "    rows['full_path'].append(os.path.join(dir_path, file))\n",
    "    rows['database'].append(database)\n",
    "    rows['emotion'].append(get_max_emotion(req_dict['faces'][0]['attributes']['emotion']))\n",
    "    female_beauty, male_beauty = get_beauty_score(req_dict['faces'][0]['attributes']['beauty'])\n",
    "    rows['female_beauty'].append(female_beauty)\n",
    "    rows['male_beauty'].append(male_beauty)                               \n",
    "    rows['gender'].append(get_gender(req_dict['faces'][0]['attributes']['gender']))\n",
    "    rows['age'].append(get_age(req_dict['faces'][0]['attributes']['age']))\n",
    "    left_eye, right_eye = get_eye_status(req_dict['faces'][0]['attributes']['eyestatus'])\n",
    "    rows['left_eye_status'].append(left_eye)\n",
    "    rows['right_eye_status'].append(right_eye)\n",
    "    rows['face_quality'].append(get_face_quality( req_dict['faces'][0]['attributes']['facequality']))\n",
    "    rows['ethnicity'].append(get_ethnicity(req_dict['faces'][0]['attributes']['ethnicity']))\n",
    "    time.sleep(1)\n",
    "    images_left_to_label.remove(file)\n",
    "    \n",
    "    if index % 10 == 0:\n",
    "        df_row_it = pd.DataFrame.from_dict(rows)\n",
    "        df_row_it.to_csv(\"gender_females.csv\", mode='a', header=False, index=False)\n",
    "        \n",
    "        rows = {'full_path': [],\n",
    "        'database': [],\n",
    "        'emotion': [],\n",
    "        'female_beauty': [],\n",
    "        'male_beauty': [],\n",
    "        'gender': [],\n",
    "        'age': [],\n",
    "        'left_eye_status': [],\n",
    "        'right_eye_status': [],\n",
    "        'face_quality': [],\n",
    "        'ethnicity': []}"
   ]
  },
  {
   "cell_type": "code",
   "execution_count": null,
   "metadata": {},
   "outputs": [],
   "source": [
    "df = pd.DataFrame.from_dict(rows)"
   ]
  },
  {
   "cell_type": "code",
   "execution_count": null,
   "metadata": {},
   "outputs": [],
   "source": [
    "#df.to_csv(\"gender_females.csv\", index=False)\n",
    "df.to_csv(\"gender_females.csv\", mode='a', header=False, index=False)"
   ]
  },
  {
   "cell_type": "code",
   "execution_count": null,
   "metadata": {},
   "outputs": [],
   "source": [
    "test_df = pd.read_csv(\"gender_females.csv\")"
   ]
  },
  {
   "cell_type": "code",
   "execution_count": null,
   "metadata": {
    "scrolled": true
   },
   "outputs": [],
   "source": [
    "test_df.head(15)"
   ]
  },
  {
   "cell_type": "code",
   "execution_count": null,
   "metadata": {},
   "outputs": [],
   "source": [
    "test_df.shape"
   ]
  },
  {
   "cell_type": "code",
   "execution_count": null,
   "metadata": {},
   "outputs": [],
   "source": [
    "test_df.iloc[:]['full_path']"
   ]
  }
 ],
 "metadata": {
  "kernelspec": {
   "display_name": "Python [conda env:tensorflow_10]",
   "language": "python",
   "name": "conda-env-tensorflow_10-py"
  },
  "language_info": {
   "codemirror_mode": {
    "name": "ipython",
    "version": 3
   },
   "file_extension": ".py",
   "mimetype": "text/x-python",
   "name": "python",
   "nbconvert_exporter": "python",
   "pygments_lexer": "ipython3",
   "version": "3.6.6"
  }
 },
 "nbformat": 4,
 "nbformat_minor": 2
}
