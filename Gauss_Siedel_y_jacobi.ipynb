{
 "cells": [
  {
   "cell_type": "code",
   "execution_count": 1,
   "metadata": {
    "collapsed": true
   },
   "outputs": [],
   "source": [
    "import numpy as np"
   ]
  },
  {
   "cell_type": "code",
   "execution_count": 2,
   "metadata": {
    "collapsed": true
   },
   "outputs": [],
   "source": [
    "def gs(A, B, iters=10000, λ = 0.2):\n",
    "    X = np.zeros(A.shape[1])\n",
    "    bk = np.zeros(A.shape[1])\n",
    "    for it in range(iters):\n",
    "        for i in range(A.shape[1]):\n",
    "            X[i] = B[i]\n",
    "            for j in range(A.shape[1]):\n",
    "                if j == i:\n",
    "                    continue\n",
    "                X[i] -= A[i,j]*X[j]\n",
    "            X[i] /= A[i,i]\n",
    "\n",
    "            X[i] = λ*X[i] + (1 - λ)*X[i]\n",
    "        if np.array_equal(bk,X):\n",
    "            print(it)\n",
    "            return X\n",
    "\n",
    "        bk = np.copy(X)  \n",
    "    return X"
   ]
  },
  {
   "cell_type": "code",
   "execution_count": 3,
   "metadata": {
    "collapsed": true
   },
   "outputs": [],
   "source": [
    "def jacobi(A, B, iters=10000, λ = 0.2):\n",
    "    X = np.zeros(A.shape[1])\n",
    "    X_temp = np.zeros(A.shape[1])\n",
    "    bk = np.zeros(A.shape[1])\n",
    "    for it in range(iters):\n",
    "        for i in range(A.shape[1]):\n",
    "            X_temp[i] = B[i]\n",
    "            for j in range(A.shape[1]):\n",
    "                if j == i:\n",
    "                    continue\n",
    "                X_temp[i] -= A[i,j]*X[j]\n",
    "            X_temp[i] /= A[i,i]\n",
    "\n",
    "            X_temp[i] = λ*X_temp[i] + (1 - λ)*-X_temp[i]\n",
    "            \n",
    "        X = np.copy(X_temp)\n",
    "        if np.array_equal(bk,X):\n",
    "            print(it)\n",
    "            return X\n",
    "\n",
    "        bk = np.copy(X)  \n",
    "    return X"
   ]
  },
  {
   "cell_type": "code",
   "execution_count": 4,
   "metadata": {},
   "outputs": [
    {
     "name": "stdout",
     "output_type": "stream",
     "text": [
      "[[  3.   -0.1  -0.2]\n",
      " [  0.1   7.   -0.3]\n",
      " [  0.3  -0.2  10. ]]\n"
     ]
    }
   ],
   "source": [
    "A = np.array([[3, -0.1, -0.2] , [0.1, 7, -0.3] , [0.3, -0.2, 10]])\n",
    "#A = np.array([[1, 1/2, 1/3] , [1, 2/3, 1/2] , [1, 3/4, 3/5]])\n",
    "print(A)"
   ]
  },
  {
   "cell_type": "code",
   "execution_count": 5,
   "metadata": {},
   "outputs": [
    {
     "name": "stdout",
     "output_type": "stream",
     "text": [
      "[[  7.85]\n",
      " [-19.3 ]\n",
      " [ 71.4 ]]\n"
     ]
    }
   ],
   "source": [
    "B = np.array([[7.85] , [-19.3] , [71.4]])\n",
    "#B = np.array([[1.833333] , [2.166667] , [2.35]])\n",
    "print(B)"
   ]
  },
  {
   "cell_type": "code",
   "execution_count": 6,
   "metadata": {},
   "outputs": [
    {
     "name": "stdout",
     "output_type": "stream",
     "text": [
      "9\n",
      "Gauss-Seidel [ 3.  -2.5  7. ]\n",
      "13\n",
      "Jacobi [-2.2333747   3.03671188 -7.26773548]\n"
     ]
    }
   ],
   "source": [
    "print('Gauss-Seidel',gs(A, B, λ = 0))\n",
    "print('Jacobi',jacobi(A, B, λ = 0))"
   ]
  },
  {
   "cell_type": "code",
   "execution_count": null,
   "metadata": {
    "collapsed": true
   },
   "outputs": [],
   "source": []
  }
 ],
 "metadata": {
  "kernelspec": {
   "display_name": "Python 3",
   "language": "python",
   "name": "python3"
  },
  "language_info": {
   "codemirror_mode": {
    "name": "ipython",
    "version": 3
   },
   "file_extension": ".py",
   "mimetype": "text/x-python",
   "name": "python",
   "nbconvert_exporter": "python",
   "pygments_lexer": "ipython3",
   "version": "3.6.3"
  }
 },
 "nbformat": 4,
 "nbformat_minor": 2
}
