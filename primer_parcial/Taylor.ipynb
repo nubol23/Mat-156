{
 "cells": [
  {
   "cell_type": "code",
   "execution_count": 1,
   "metadata": {
    "collapsed": true
   },
   "outputs": [],
   "source": [
    "from decimal import *\n",
    "import numpy as np\n",
    "import sympy as sym\n",
    "import matplotlib.pyplot as plt\n",
    "\n",
    "getcontext().prec = 14"
   ]
  },
  {
   "cell_type": "code",
   "execution_count": 18,
   "metadata": {
    "collapsed": true
   },
   "outputs": [],
   "source": [
    "def taylor(x_0, f, it, x_1 = 0, h = 0):\n",
    "    it += 1\n",
    "\n",
    "    fact = [1]*(it+1)\n",
    "    for i in range(1,it+1):\n",
    "        fact[i] = i*fact[i-1]\n",
    "\n",
    "    if h == 0:\n",
    "        h = (x_1 - x_0)\n",
    "    #f0 = f(x_0)\n",
    "    f0 = f.evalf(subs={x:x_0})\n",
    "    fi = f0\n",
    "    R_n = 0\n",
    "\n",
    "    f_log, R_n_log = [], []\n",
    "    for i in range(1,it+1):\n",
    "        fi = fi + R_n\n",
    "        f_log.append(fi)\n",
    "\n",
    "        R_n = sym.diff(f, x, i).evalf(subs={x:x_0}) * (h**i)/fact[i]\n",
    "        R_n_log.append(R_n)\n",
    "    return f_log, R_n_log"
   ]
  },
  {
   "cell_type": "code",
   "execution_count": 19,
   "metadata": {},
   "outputs": [
    {
     "name": "stdout",
     "output_type": "stream",
     "text": [
      "[0]: 1.20000000000000 \t| -0.250000000000000\n",
      "[1]: 0.950000000000000 \t| -0.500000000000000\n",
      "[2]: 0.450000000000000 \t| -0.150000000000000\n",
      "[3]: 0.300000000000000 \t| -0.100000000000000\n",
      "[4]: 0.200000000000000 \t| 0\n"
     ]
    }
   ],
   "source": [
    "x = sym.symbols('x')\n",
    "#func = sym.exp(x)\n",
    "func = -0.1*x**4 - 0.15*x**3 - 0.5*x**2 - 0.25*x + 1.2\n",
    "#func = sym.cos(x)\n",
    "\n",
    "iter = 4\n",
    "\n",
    "#f_log, R_n_log = taylor(x_0=0.5, f=func, it=6, x_1=1.1)\n",
    "f_log, R_n_log = taylor(x_0=0, f=func, it=iter, h=1)\n",
    "#f_log, R_n_log = taylor(float(sym.pi)/4, func, 6, x_1=float(sym.pi)/3)\n",
    "for i in range(len(f_log)):\n",
    "    print('['+str(i)+']:',f_log[i],'\\t|', R_n_log[i])"
   ]
  },
  {
   "cell_type": "code",
   "execution_count": 20,
   "metadata": {},
   "outputs": [
    {
     "data": {
      "image/png": "[encoded data removed]",
      "text/plain": [
       "<matplotlib.figure.Figure at 0x7f5f60c76828>"
      ]
     },
     "metadata": {},
     "output_type": "display_data"
    }
   ],
   "source": [
    "x_r = np.linspace(-3, 3, 300)\n",
    "gr = [func.evalf(subs={x:v}) for v in x_r]\n",
    "plt.xlabel('x')\n",
    "plt.ylabel('f(x)')\n",
    "plt.plot(gr)\n",
    "plt.show()"
   ]
  },
  {
   "cell_type": "code",
   "execution_count": null,
   "metadata": {
    "collapsed": true
   },
   "outputs": [],
   "source": [
    "#backup\n",
    "#def taylor(x_0, x_1, tolerance, f, it, h = 0):\n",
    "#f_log, R_n_log = taylor(0, 1, 0, func, iter)\n",
    "#f_log, R_n_log = taylor(0.5, 1.1, 0, func, 6)"
   ]
  }
 ],
 "metadata": {
  "kernelspec": {
   "display_name": "Python 3",
   "language": "python",
   "name": "python3"
  },
  "language_info": {
   "codemirror_mode": {
    "name": "ipython",
    "version": 3
   },
   "file_extension": ".py",
   "mimetype": "text/x-python",
   "name": "python",
   "nbconvert_exporter": "python",
   "pygments_lexer": "ipython3",
   "version": "3.6.3"
  }
 },
 "nbformat": 4,
 "nbformat_minor": 2
}
