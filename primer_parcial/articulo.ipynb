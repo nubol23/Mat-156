{
 "cells": [
  {
   "cell_type": "code",
   "execution_count": 16,
   "metadata": {
    "collapsed": true
   },
   "outputs": [],
   "source": [
    "import struct\n",
    "from math import *\n",
    "import numpy as np\n",
    "import sys"
   ]
  },
  {
   "cell_type": "code",
   "execution_count": 4,
   "metadata": {
    "collapsed": true
   },
   "outputs": [],
   "source": [
    "def pow2(F, E):\n",
    "    return (F * 2**E)"
   ]
  },
  {
   "cell_type": "code",
   "execution_count": 5,
   "metadata": {
    "collapsed": true
   },
   "outputs": [],
   "source": [
    "def double_to_hex(f):\n",
    "    return hex(struct.unpack('<Q', struct.pack('<d', f))[0])[2:]"
   ]
  },
  {
   "cell_type": "code",
   "execution_count": 6,
   "metadata": {},
   "outputs": [
    {
     "name": "stdout",
     "output_type": "stream",
     "text": [
      "eps: 2.220446049250313e-16\n"
     ]
    }
   ],
   "source": [
    "\"\"\"eps\"\"\"\n",
    "eps = 2**(-52)\n",
    "print('eps:',eps)"
   ]
  },
  {
   "cell_type": "code",
   "execution_count": 7,
   "metadata": {},
   "outputs": [
    {
     "name": "stdout",
     "output_type": "stream",
     "text": [
      "t: 3fb999999999999a\n"
     ]
    }
   ],
   "source": [
    "\"\"\"t\"\"\"\n",
    "t = 0.1\n",
    "print('t:',double_to_hex(t))"
   ]
  },
  {
   "cell_type": "code",
   "execution_count": 8,
   "metadata": {},
   "outputs": [
    {
     "name": "stdout",
     "output_type": "stream",
     "text": [
      "phi: 3ff9e3779b97f4a8\n"
     ]
    }
   ],
   "source": [
    "\"\"\"Phi\"\"\"\n",
    "phi = (1 + sqrt(5))/2\n",
    "\n",
    "#print('phi: ',phi)\n",
    "\n",
    "print('phi:',double_to_hex(phi))"
   ]
  },
  {
   "cell_type": "code",
   "execution_count": 9,
   "metadata": {},
   "outputs": [
    {
     "name": "stdout",
     "output_type": "stream",
     "text": [
      "a: 1.3333333333333333\n",
      "b: 0.33333333333333326\n",
      "c: 0.9999999999999998\n",
      "e: 2.220446049250313e-16\n"
     ]
    }
   ],
   "source": [
    "\"\"\"code\"\"\"\n",
    "a = 4/3\n",
    "b = a - 1\n",
    "c = 3*b\n",
    "e = 1 - c\n",
    "\n",
    "print('a:',a)\n",
    "print('b:',b)\n",
    "print('c:',c)\n",
    "print('e:',e)"
   ]
  },
  {
   "cell_type": "code",
   "execution_count": 17,
   "metadata": {},
   "outputs": [
    {
     "name": "stdout",
     "output_type": "stream",
     "text": [
      "eps2: 2.220446049250313e-16\n"
     ]
    }
   ],
   "source": [
    "\"\"\"eps2\"\"\"\n",
    "print('eps2:',sys.float_info.epsilon)"
   ]
  },
  {
   "cell_type": "code",
   "execution_count": 11,
   "metadata": {},
   "outputs": [
    {
     "name": "stdout",
     "output_type": "stream",
     "text": [
      "Help on built-in function frexp in module math:\n",
      "\n",
      "frexp(...)\n",
      "    frexp(x)\n",
      "    \n",
      "    Return the mantissa and exponent of x, as pair (m, e).\n",
      "    m is a float and e is an int, such that x = m * 2.**e.\n",
      "    If x is 0, m and e are both 0.  Else 0.5 <= abs(m) < 1.0.\n",
      "\n",
      "None\n"
     ]
    }
   ],
   "source": [
    "\"\"\"help\"\"\"\n",
    "print(help(frexp))\n",
    "#info de nuestro pow2"
   ]
  },
  {
   "cell_type": "code",
   "execution_count": 12,
   "metadata": {},
   "outputs": [
    {
     "name": "stdout",
     "output_type": "stream",
     "text": [
      "F: 0.8090169943749475\n",
      "E: 1\n",
      "phi: 1.618033988749895\n"
     ]
    }
   ],
   "source": [
    "\"\"\"Using logs\"\"\"\n",
    "F, E = frexp(phi)\n",
    "print('F:',F)\n",
    "print('E:',E)\n",
    "\n",
    "phi = pow2(F,E)\n",
    "print('phi:',phi)"
   ]
  },
  {
   "cell_type": "code",
   "execution_count": 20,
   "metadata": {},
   "outputs": [
    {
     "name": "stdout",
     "output_type": "stream",
     "text": [
      "[[-1.25490196]\n",
      " [ 8.66666667]]\n",
      "A[1,1]=(1/4)*eps 5.55111512313e-17 = 5.551115123125783e-17\n",
      "b[1]=2*eps [  4.44089210e-16] = 4.440892098500626e-16\n",
      "x[1]=b[1]/A[1,1] [ 8.66666667] = [ 8.]\n",
      "x[0]=(22 - 5*x[1])/17 [-1.25490196] = [-1.25490196]\n"
     ]
    }
   ],
   "source": [
    "\"\"\"resolver sistemas de ecuaciones\"\"\"\n",
    "A = np.array([[17, 5],[1.7, 0.5]])\n",
    "b = np.array([[22],[2.2]])\n",
    "x = np.linalg.solve(A, b)\n",
    "print(x)\n",
    "\n",
    "mu = 1.7/17\n",
    "A[1,:] = A[1,:] - mu*A[0,:]\n",
    "b[1] = b[1] - mu*b[0]\n",
    "\n",
    "print('A[1,1]=(1/4)*eps',A[1,1],'=',(1/4)*sys.float_info.epsilon)\n",
    "print('b[1]=2*eps',b[1],'=',2*eps)\n",
    "\n",
    "print('x[1]=b[1]/A[1,1]',x[1],'=',b[1]/A[1,1])\n",
    "print('x[0]=(22 - 5*x[1])/17',x[0],'=',(22 - 5*x[1])/17)"
   ]
  },
  {
   "cell_type": "code",
   "execution_count": 29,
   "metadata": {},
   "outputs": [
    {
     "data": {
      "image/png": "[encoded data removed]",
      "text/plain": [
       "<matplotlib.figure.Figure at 0x7f6fd8fb0da0>"
      ]
     },
     "metadata": {},
     "output_type": "display_data"
    }
   ],
   "source": [
    "\"\"\"grafica\"\"\"\n",
    "import matplotlib.pyplot as plt\n",
    "x = np.linspace(0.988, 1.012, 200)\n",
    "\n",
    "y = x**7 - 7*x**6 + 21*x**5 - 35*x**4 + 35*x**3 - 21*x**2 + 7*x - 1\n",
    "\n",
    "plt.plot(x,y)\n",
    "plt.show()"
   ]
  },
  {
   "cell_type": "code",
   "execution_count": 34,
   "metadata": {},
   "outputs": [
    {
     "data": {
      "text/plain": [
       "1.7976931348623157e+308"
      ]
     },
     "execution_count": 34,
     "metadata": {},
     "output_type": "execute_result"
    }
   ],
   "source": [
    "np.finfo(np.double).max"
   ]
  },
  {
   "cell_type": "code",
   "execution_count": 40,
   "metadata": {},
   "outputs": [
    {
     "name": "stdout",
     "output_type": "stream",
     "text": [
      "<class 'float'>\n"
     ]
    }
   ],
   "source": [
    "print(type(3.0))"
   ]
  },
  {
   "cell_type": "code",
   "execution_count": null,
   "metadata": {
    "collapsed": true
   },
   "outputs": [],
   "source": []
  }
 ],
 "metadata": {
  "kernelspec": {
   "display_name": "Python 3",
   "language": "python",
   "name": "python3"
  },
  "language_info": {
   "codemirror_mode": {
    "name": "ipython",
    "version": 3
   },
   "file_extension": ".py",
   "mimetype": "text/x-python",
   "name": "python",
   "nbconvert_exporter": "python",
   "pygments_lexer": "ipython3",
   "version": "3.6.3"
  }
 },
 "nbformat": 4,
 "nbformat_minor": 2
}
